{
 "cells": [
  {
   "cell_type": "markdown",
   "metadata": {},
   "source": [
    "#### Import section and global variables\n",
    "\n"
   ]
  },
  {
   "cell_type": "code",
   "execution_count": 3,
   "metadata": {},
   "outputs": [
    {
     "name": "stdout",
     "output_type": "stream",
     "text": [
      "Cell Executed\n"
     ]
    }
   ],
   "source": [
    "from bs4 import BeautifulSoup\n",
    "import requests\n",
    "import re\n",
    "import sys, os\n",
    "import sqlite3\n",
    "import csv\n",
    "import time\n",
    "\n",
    "# When an exception occurs, set this variable to terminate code execution.\n",
    "errEvent = False\n",
    "\n",
    "print(\"Cell Executed\")"
   ]
  },
  {
   "cell_type": "markdown",
   "metadata": {},
   "source": [
    "#### Fetching the HTML source code of money.cnn.com/data/hotstocks website"
   ]
  },
  {
   "cell_type": "code",
   "execution_count": 4,
   "metadata": {},
   "outputs": [
    {
     "name": "stdout",
     "output_type": "stream",
     "text": [
      "Cell Executed\n"
     ]
    }
   ],
   "source": [
    "# Use this header in requests to prevent the User Agent from being validated\n",
    "h={'User-Agent': 'Mozilla/5.0 (Windows NT 10.0; Win64; x64) AppleWebKit/537.36 (KHTML, like Gecko) Chrome/71.0.3578.98 Safari/537.36'}\n",
    "\n",
    "try:\n",
    "    if errEvent:\n",
    "        raise KeyboardInterrupt\n",
    "        \n",
    "    html = requests.get('https://money.cnn.com/data/hotstocks/', headers=h)\n",
    "    soup = BeautifulSoup(html.text, 'html.parser')\n",
    "    print(\"Cell Executed\")\n",
    "except KeyboardInterrupt:\n",
    "    print(\"Code execution interrupted\\nError in the previous cell, check the output of the above cell\\nOnce resolved Restart and runn all cells\")\n",
    "except Exception as e:\n",
    "    errCond = True\n",
    "    exc_type, exc_obj, exc_tb = sys.exc_info()\n",
    "    print(\"Message: \", exc_obj, \"\\nType: \", exc_type, \"\\nLine no.: \", exc_tb.tb_lineno)"
   ]
  },
  {
   "cell_type": "markdown",
   "metadata": {},
   "source": [
    "### We possess stock symbol, however that is in the format \"F\" (Ford Motor Company), but the google finance url format is \"F:NYSE\"\n",
    "\n",
    "#### Because the symbol obtained from the preceding HTML document is not immediately applicable to a Google Finance query, we will acquire the document for each stock and use it to locate the appropriate symbol"
   ]
  },
  {
   "cell_type": "code",
   "execution_count": 5,
   "metadata": {},
   "outputs": [
    {
     "name": "stdout",
     "output_type": "stream",
     "text": [
      "Cell Executed\n"
     ]
    }
   ],
   "source": [
    "try:\n",
    "    if errEvent:\n",
    "        raise KeyboardInterrupt\n",
    "    \n",
    "    active_stocks = soup.find('table', class_='wsod_dataTable wsod_dataTableBigAlt')\n",
    "    active_stocks_dict = {}\n",
    "\n",
    "    # Seeking a link to the stock's page\n",
    "    for t in active_stocks.find_all('a', class_='wsod_symbol'):\n",
    "        \n",
    "        # Creating dictionary a symbol (key) and link (value)\n",
    "        active_stocks_dict[t.text] = 'https://money.cnn.com/' + t.get('href')\n",
    "\n",
    "    # Get the precise ticker symbol for a Google Finance search.\n",
    "    for s, l in active_stocks_dict.items():\n",
    "        \n",
    "        # The document with the format 'F:NYSE' symbol is being retired\n",
    "        _soup = BeautifulSoup(requests.get(l, headers=h).text, 'html.parser')\n",
    "        s_t = _soup.find('span', class_='wsod_smallSubHeading')\n",
    "\n",
    "        # Regular expression for eliminating '(' and ')', as well as dividing the data on ':' and flipping the sequence\n",
    "        _sym = ':'.join(re.sub(r'[\\(\\)]', '', s_t.text).split(\":\")[::-1])\n",
    "        active_stocks_dict[s] = 'https://www.google.com/finance/quote/' + _sym\n",
    "    print(\"Cell Executed\")\n",
    "except KeyboardInterrupt:\n",
    "    print(\"Code execution interrupted\\nError in the previous cell, check the output of the above cell\\nOnce resolved Restart and runn all cells\")\n",
    "except Exception as e:\n",
    "    errCond = True\n",
    "    exc_type, exc_obj, exc_tb = sys.exc_info()\n",
    "    print(\"Message: \", exc_obj, \"\\nType: \", exc_type, \"\\nLine no.: \", exc_tb.tb_lineno)"
   ]
  },
  {
   "cell_type": "markdown",
   "metadata": {},
   "source": [
    "#### The day opening price, average volume, and PE-ratio are collected from the Google Finance website\n"
   ]
  },
  {
   "cell_type": "code",
   "execution_count": 6,
   "metadata": {},
   "outputs": [
    {
     "name": "stdout",
     "output_type": "stream",
     "text": [
      "Cell Executed\n"
     ]
    }
   ],
   "source": [
    "try:\n",
    "    if errEvent:\n",
    "        raise KeyboardInterrupt\n",
    "        \n",
    "    stocks_data = {}\n",
    "\n",
    "    # On the finance page, the opening price, volume, and pe-ratio have been filtered\n",
    "    for symbl, lnk in active_stocks_dict.items():\n",
    "        _soup = BeautifulSoup(requests.get(lnk, headers=h).text, 'html.parser')\n",
    "\n",
    "        # Our necessary data is included under div tags with the class P6K39c\n",
    "        t = _soup.find_all('div', class_='P6K39c')\n",
    "        \n",
    "        # We do not have direct access to opening prices, but we do have access to day-range pricing, which we may use to establish opening prices\n",
    "        p = float(t[1].text.split(' - ')[0].replace('$', ''))\n",
    "        \n",
    "        v = int(float(t[4].text.replace('M', '').replace(',', '')))\n",
    "\n",
    "        # On the Google Finance page, the PE-ratio might be a number or a '-'\n",
    "        if t[5].text != '-':\n",
    "            pe = float(t[5].text)\n",
    "        else:\n",
    "            pe = -1\n",
    "        stocks_data[symbl] = {\"open_price\": p,\"volume\": v,\"pe_ratio\": pe}\n",
    "    print(\"Cell Executed\")\n",
    "except KeyboardInterrupt:\n",
    "    print(\"Code execution interrupted\\nError in the previous cell, check the output of the above cell\\nOnce resolved Restart and runn all cells\")\n",
    "except Exception as e:\n",
    "    errCond = True\n",
    "    exc_type, exc_obj, exc_tb = sys.exc_info()\n",
    "    print(\"Message: \", exc_obj, \"\\nType: \", exc_type, \"\\nLine no.: \", exc_tb.tb_lineno)"
   ]
  },
  {
   "cell_type": "markdown",
   "metadata": {},
   "source": [
    "#### Performing file management, that is, identifying whether or not files exist and acting accordingly"
   ]
  },
  {
   "cell_type": "code",
   "execution_count": 8,
   "metadata": {},
   "outputs": [
    {
     "name": "stdout",
     "output_type": "stream",
     "text": [
      "Cell Executed\n"
     ]
    }
   ],
   "source": [
    "try:\n",
    "    if errEvent:\n",
    "        raise KeyboardInterrupt\n",
    "    \n",
    "    # Bool variables to validate if files exisits or not\n",
    "    text_exists = os.path.isfile('stocks.txt')\n",
    "    db_exits = os.path.isfile('StocksDatabase.db')\n",
    "\n",
    "    # If the files are present, then deleting them\n",
    "    if text_exists:\n",
    "        os.remove('stocks.txt')\n",
    "\n",
    "    if db_exits:\n",
    "        f = os.open('StocksDatabase.db', os.O_WRONLY)\n",
    "        os.close(f)\n",
    "        os.remove('StocksDatabase.db')\n",
    "\n",
    "    txt_file = open('stocks.txt', 'w')\n",
    "    con = sqlite3.connect('StocksDatabase.db')\n",
    "    print(\"Cell Executed\")\n",
    "except KeyboardInterrupt:\n",
    "    print(\"Code execution interrupted\\nError in the previous cell, check the output of the above cell\\nOnce resolved Restart and runn all cells\")\n",
    "except Exception as e:\n",
    "    errCond = True\n",
    "    exc_type, exc_obj, exc_tb = sys.exc_info()\n",
    "    print(\"Message: \", exc_obj, \"\\nType: \", exc_type, \"\\nLine no.: \", exc_tb.tb_lineno)"
   ]
  },
  {
   "cell_type": "markdown",
   "metadata": {},
   "source": [
    "#### Recording data in Text file and SQLite database"
   ]
  },
  {
   "cell_type": "code",
   "execution_count": null,
   "metadata": {},
   "outputs": [],
   "source": [
    "try:\n",
    "    if errEvent:\n",
    "        raise KeyboardInterrupt\n",
    "       \n",
    "    cur = con.cursor()\n",
    "    txt_file.write(','.join(['Symbol', 'Open Price', 'Volume', 'PE-Ratio']) + '\\n')\n",
    "\n",
    "    # Creating a 'StocksTable' table with a given structure\n",
    "    cur.execute('''CREATE TABLE IF NOT EXISTS StocksTable\n",
    "                   (TickerSymb TEXT, OpenPrice REAL, Volume INTEGER, PERatio REAL)''')\n",
    "    \n",
    "    \n",
    "    for symbl, stats in stocks_data.items():\n",
    "        data_row = ','.join([str(symbl), str(stats['open_price']), str(stats['volume']), str(stats['pe_ratio'])]) + '\\n'\n",
    "        txt_file.write(data_row)\n",
    "\n",
    "        # Inserting data into the database\n",
    "        cur.execute('''\n",
    "            INSERT INTO StocksTable VALUES ('{}', {}, {}, {})\n",
    "        '''.format(symbl, stats['open_price'], stats['volume'], stats['pe_ratio'])\n",
    "        )\n",
    "\n",
    "    else:\n",
    "        con.commit()\n",
    "        con.close()\n",
    "        txt_file.close()\n",
    "    print(\"Cell Executed\")\n",
    "except KeyboardInterrupt:\n",
    "    print(\"Code execution interrupted\\nError in the previous cell, check the output of the above cell\\nOnce resolved Restart and runn all cells\")\n",
    "except Exception as e:\n",
    "    errCond = True\n",
    "    exc_type, exc_obj, exc_tb = sys.exc_info()\n",
    "    print(\"Message: \", exc_obj, \"\\nType: \", exc_type, \"\\nLine no.: \", exc_tb.tb_lineno)  \n",
    "    txt_file.close()\n",
    "    print(\"If another error is thrown, restart the kernel\")\n",
    "    con.rollback()\n",
    "    con.close()"
   ]
  },
  {
   "cell_type": "code",
   "execution_count": null,
   "metadata": {},
   "outputs": [],
   "source": []
  },
  {
   "cell_type": "code",
   "execution_count": null,
   "metadata": {},
   "outputs": [],
   "source": []
  }
 ],
 "metadata": {
  "kernelspec": {
   "display_name": "Python 3 (ipykernel)",
   "language": "python",
   "name": "python3"
  },
  "language_info": {
   "codemirror_mode": {
    "name": "ipython",
    "version": 3
   },
   "file_extension": ".py",
   "mimetype": "text/x-python",
   "name": "python",
   "nbconvert_exporter": "python",
   "pygments_lexer": "ipython3",
   "version": "3.9.7"
  }
 },
 "nbformat": 4,
 "nbformat_minor": 4
}
